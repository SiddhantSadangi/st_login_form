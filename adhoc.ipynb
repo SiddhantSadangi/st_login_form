{
 "cells": [
  {
   "cell_type": "code",
   "execution_count": 5,
   "metadata": {},
   "outputs": [],
   "source": [
    "from st_supabase_connection import SupabaseConnection, execute_query\n",
    "import streamlit as st"
   ]
  },
  {
   "cell_type": "code",
   "execution_count": 3,
   "metadata": {},
   "outputs": [
    {
     "name": "stderr",
     "output_type": "stream",
     "text": [
      "2025-06-06 20:26:50.570 WARNING streamlit.runtime.scriptrunner_utils.script_run_context: Thread 'MainThread': missing ScriptRunContext! This warning can be ignored when running in bare mode.\n",
      "2025-06-06 20:26:50.903 \n",
      "  \u001b[33m\u001b[1mWarning:\u001b[0m to view this Streamlit app on a browser, run it with the following\n",
      "  command:\n",
      "\n",
      "    streamlit run c:\\Users\\siddh\\python_envs\\py39\\lib\\site-packages\\ipykernel_launcher.py [ARGUMENTS]\n",
      "2025-06-06 20:26:50.903 Thread 'MainThread': missing ScriptRunContext! This warning can be ignored when running in bare mode.\n",
      "2025-06-06 20:26:50.904 Thread 'MainThread': missing ScriptRunContext! This warning can be ignored when running in bare mode.\n",
      "2025-06-06 20:26:51.129 Thread 'MainThread': missing ScriptRunContext! This warning can be ignored when running in bare mode.\n",
      "2025-06-06 20:26:51.131 Thread 'MainThread': missing ScriptRunContext! This warning can be ignored when running in bare mode.\n"
     ]
    }
   ],
   "source": [
    "client = st.connection(name=\"supabase\", type=SupabaseConnection)"
   ]
  },
  {
   "cell_type": "code",
   "execution_count": 8,
   "metadata": {},
   "outputs": [],
   "source": [
    "user_tablename = \"demo_users\"\n",
    "username_col = \"username\"\n",
    "password_col = \"password\""
   ]
  },
  {
   "cell_type": "code",
   "execution_count": 12,
   "metadata": {},
   "outputs": [
    {
     "name": "stderr",
     "output_type": "stream",
     "text": [
      "2025-06-06 20:32:31.167 Thread 'MainThread': missing ScriptRunContext! This warning can be ignored when running in bare mode.\n",
      "2025-06-06 20:32:31.167 Thread 'MainThread': missing ScriptRunContext! This warning can be ignored when running in bare mode.\n",
      "2025-06-06 20:32:31.168 Thread 'MainThread': missing ScriptRunContext! This warning can be ignored when running in bare mode.\n",
      "2025-06-06 20:32:31.682 Thread 'Thread-29': missing ScriptRunContext! This warning can be ignored when running in bare mode.\n",
      "2025-06-06 20:32:31.687 Thread 'Thread-29': missing ScriptRunContext! This warning can be ignored when running in bare mode.\n",
      "2025-06-06 20:32:32.685 Thread 'MainThread': missing ScriptRunContext! This warning can be ignored when running in bare mode.\n",
      "2025-06-06 20:32:32.686 Thread 'MainThread': missing ScriptRunContext! This warning can be ignored when running in bare mode.\n"
     ]
    },
    {
     "data": {
      "text/plain": [
       "[{'username': '01', 'password': 'password'},\n",
       " {'username': '02', 'password': 'password2'}]"
      ]
     },
     "execution_count": 12,
     "metadata": {},
     "output_type": "execute_result"
    }
   ],
   "source": [
    "plaintext_passwords = execute_query(\n",
    "    client.table(user_tablename)\n",
    "    .select(f\"{username_col}, {password_col}\")\n",
    "    .not_.like(password_col, \"$argon2id$%\"),\n",
    "    ttl=0,\n",
    ").data\n",
    "plaintext_passwords"
   ]
  },
  {
   "cell_type": "code",
   "execution_count": 10,
   "metadata": {},
   "outputs": [],
   "source": [
    "from src.st_login_form import auth"
   ]
  },
  {
   "cell_type": "code",
   "execution_count": 14,
   "metadata": {},
   "outputs": [
    {
     "data": {
      "text/plain": [
       "APIResponse[~_ReturnT](data=[{'username': '01', 'password': 'hashed_password'}, {'username': '02', 'password': 'hashed_password'}], count=None)"
      ]
     },
     "execution_count": 14,
     "metadata": {},
     "output_type": "execute_result"
    }
   ],
   "source": [
    "updates = []\n",
    "for pair in plaintext_passwords:\n",
    "    pair[\"password\"] = \"hashed_password\"\n",
    "    updates.append({username_col: pair[\"username\"], password_col: pair[\"password\"]})\n",
    "\n",
    "client.table(user_tablename).upsert(updates).execute()"
   ]
  },
  {
   "cell_type": "code",
   "execution_count": null,
   "metadata": {},
   "outputs": [],
   "source": []
  }
 ],
 "metadata": {
  "kernelspec": {
   "display_name": "py39",
   "language": "python",
   "name": "python3"
  },
  "language_info": {
   "codemirror_mode": {
    "name": "ipython",
    "version": 3
   },
   "file_extension": ".py",
   "mimetype": "text/x-python",
   "name": "python",
   "nbconvert_exporter": "python",
   "pygments_lexer": "ipython3",
   "version": "3.9.13"
  }
 },
 "nbformat": 4,
 "nbformat_minor": 2
}
